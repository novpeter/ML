{
 "cells": [
  {
   "cell_type": "markdown",
   "metadata": {
    "collapsed": true,
    "pycharm": {
     "name": "#%% md\n"
    }
   },
   "source": [
    "## Задание 2\n",
    "Реализация `k-means` алгоритма + оптимизация"
   ]
  },
  {
   "cell_type": "code",
   "execution_count": 18,
   "outputs": [],
   "source": [
    "import numpy as np\n",
    "from matplotlib import pyplot as plt\n",
    "from sklearn.datasets import load_iris\n",
    "import random\n",
    "\n",
    "class Classifier:\n",
    "    \n",
    "    def __init__(self, dataset, n_clusters=3):\n",
    "        self.dataset = dataset\n",
    "        self.n_clusters = n_clusters\n",
    "        self.max_n_iter = 100\n",
    "        self.tolerans = .01\n",
    "        self.fitted = False\n",
    "        self.labels = np.array([])\n",
    "        self.centroids = random.sample(dataset, k=n_clusters)\n",
    "                \n",
    "    def get_distance(self, list1, list2):\n",
    "        return sum((i - j)**2 for i,j in zip(list1, list2))\n",
    "        \n",
    "    def distribute_data(self):\n",
    "        self.labels = np.array([])\n",
    "        \n",
    "        for elem in self.dataset:\n",
    "            distances = [self.get_distance(elem, center) for center in self.centroids]\n",
    "            minimum_distance_index = distances.index(min(distances))\n",
    "            self.labels = np.append(list(self.labels), minimum_distance_index).astype(int)\n",
    "        \n",
    "    def recalculate_centroids(self):\n",
    "        for i in range(self.n_clusters):\n",
    "            num = 0\n",
    "            temp = np.zeros(self.dataset[0].shape)\n",
    "            \n",
    "            for k, label in enumerate(self.labels):\n",
    "                if label == i:\n",
    "                    temp = temp + self.dataset[k]\n",
    "                    num += 1\n",
    "                    \n",
    "            self.centroids[i] = temp / num\n",
    "                        \n",
    "    def fit(self):\n",
    "        iterator = 1\n",
    "        \n",
    "        while iterator < self.max_n_iter:\n",
    "            prev_centroids = np.copy(self.centroids)\n",
    "            self.distribute_data()\n",
    "            self.recalculate_centroids()\n",
    "            if max([self.get_distance(i, k) for i, k in zip(self.centroids, prev_centroids)]):\n",
    "                break\n",
    "            iterator += 1\n",
    "            \n",
    "        self.fitted = True\n",
    "        \n",
    "    def check_is_fitted(self):\n",
    "        if self.fitted:\n",
    "            return True\n",
    "        else:\n",
    "            raise AttributeError(\"You must train classifier before predicting data!\")\n",
    "           \n",
    "    def predict(self, list):\n",
    "        self.check_is_fitted()\n",
    "        \n",
    "        result = np.array([])\n",
    "        \n",
    "        for elem in list:\n",
    "            distances = [self.get_distance(elem, center) for center in self.centroids]\n",
    "            min_distance_index = distances.index(min(distances))\n",
    "            result = np.append(result, min_distance_index).astype(int)\n",
    "            \n",
    "        return result"
   ],
   "metadata": {
    "collapsed": false,
    "pycharm": {
     "name": "#%%\n"
    }
   }
  },
  {
   "cell_type": "code",
   "execution_count": 19,
   "outputs": [],
   "source": [
    "dataset = load_iris()\n",
    "data = list(dataset['data'])\n",
    "n_clusters = len(np.unique(dataset['target']))\n",
    "\n",
    "test_data = random.sample(data, k=5)"
   ],
   "metadata": {
    "collapsed": false,
    "pycharm": {
     "name": "#%%\n"
    }
   }
  },
  {
   "cell_type": "code",
   "execution_count": 20,
   "outputs": [
    {
     "name": "stdout",
     "output_type": "stream",
     "text": [
      "Prediction result for Euclidean2 metric:\n",
      "[1 1 0 1 1]\n"
     ]
    }
   ],
   "source": [
    "model_euclidean2 = Classifier(data, n_clusters)\n",
    "\n",
    "model_euclidean2.fit()\n",
    "\n",
    "prediction_result = model_euclidean2.predict(test_data)\n",
    "print(\"Prediction result for Euclidean2 metric:\")\n",
    "print(prediction_result)"
   ],
   "metadata": {
    "collapsed": false,
    "pycharm": {
     "name": "#%%\n"
    }
   }
  },
  {
   "cell_type": "code",
   "execution_count": 21,
   "outputs": [
    {
     "data": {
      "text/plain": "<Figure size 288x288 with 1 Axes>",
      "image/png": "[encoded data removed]"
     },
     "metadata": {
      "needs_background": "light"
     },
     "output_type": "display_data"
    }
   ],
   "source": [
    "colors = np.array(['red', 'green', 'blue', 'black'])\n",
    "preds = model_euclidean2.labels\n",
    "plt.figure(figsize=(4,4))\n",
    "plt.scatter(np.array(data)[:,0], np.array(data)[:,1], color=colors[preds])\n",
    "plt.show()\n"
   ],
   "metadata": {
    "collapsed": false,
    "pycharm": {
     "name": "#%%\n"
    }
   }
  }
 ],
 "metadata": {
  "kernelspec": {
   "display_name": "Python 3",
   "language": "python",
   "name": "python3"
  },
  "language_info": {
   "codemirror_mode": {
    "name": "ipython",
    "version": 2
   },
   "file_extension": ".py",
   "mimetype": "text/x-python",
   "name": "python",
   "nbconvert_exporter": "python",
   "pygments_lexer": "ipython2",
   "version": "2.7.6"
  }
 },
 "nbformat": 4,
 "nbformat_minor": 0
}