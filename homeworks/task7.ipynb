{
 "cells": [
  {
   "cell_type": "markdown",
   "metadata": {
    "collapsed": true,
    "pycharm": {
     "name": "#%% md\n"
    }
   },
   "source": [
    "## Задание 7\n",
    "Реализация алгоритма кластеризации `Наивный Байесс`"
   ]
  },
  {
   "cell_type": "code",
   "execution_count": 31,
   "outputs": [],
   "source": [
    "import numpy as np\n",
    "import pandas as pd"
   ],
   "metadata": {
    "collapsed": false,
    "pycharm": {
     "name": "#%%\n"
    }
   }
  },
  {
   "cell_type": "code",
   "execution_count": 32,
   "outputs": [],
   "source": [
    "disease_data = pd.read_csv(r'../files/task7-disease.csv', sep=';')\n",
    "symptom_data = pd.read_csv(r'../files/task7-symptom.csv', sep=';')"
   ],
   "metadata": {
    "collapsed": false,
    "pycharm": {
     "name": "#%%\n"
    }
   }
  },
  {
   "cell_type": "code",
   "execution_count": 33,
   "outputs": [
    {
     "data": {
      "text/plain": "               Симптом Острый левостор паратонз абсцесс  \\\n0                    1                                2   \n1          Недомогание                             0,97   \n2             Слабость                             0,99   \n3        Головную боль                             0,66   \n4  Отсутствие аппетита                             0,73   \n\n  Острый правостор паратонз абсцесс Острый двухстор паратонз абсцесс  \\\n0                                 3                                4   \n1                              0,96                                1   \n2                              0,98                                1   \n3                              0,73                             0,88   \n4                              0,75                             0,88   \n\n  Острый левостор паратон-зиллит Острый правостор паратон-зиллит  \\\n0                              5                               6   \n1                           0,92                            0,91   \n2                           0,96                               1   \n3                           0,76                            0,79   \n4                           0,76                            0,86   \n\n  Острый левостор парафарин абсцесс Острый правостор парафарин абсцесс  \\\n0                                 7                                  8   \n1                                 1                                  1   \n2                                 1                                  1   \n3                               0,5                                0,5   \n4                               0,5                                0,5   \n\n  Острый левостор парафарингит Острый правостор парафарингит  \n0                            9                            10  \n1                            1                           0,9  \n2                          0,7                             1  \n3                            1                           0,6  \n4                          0,8                           0,6  ",
      "text/html": "<div>\n<style scoped>\n    .dataframe tbody tr th:only-of-type {\n        vertical-align: middle;\n    }\n\n    .dataframe tbody tr th {\n        vertical-align: top;\n    }\n\n    .dataframe thead th {\n        text-align: right;\n    }\n</style>\n<table border=\"1\" class=\"dataframe\">\n  <thead>\n    <tr style=\"text-align: right;\">\n      <th></th>\n      <th>Симптом</th>\n      <th>Острый левостор паратонз абсцесс</th>\n      <th>Острый правостор паратонз абсцесс</th>\n      <th>Острый двухстор паратонз абсцесс</th>\n      <th>Острый левостор паратон-зиллит</th>\n      <th>Острый правостор паратон-зиллит</th>\n      <th>Острый левостор парафарин абсцесс</th>\n      <th>Острый правостор парафарин абсцесс</th>\n      <th>Острый левостор парафарингит</th>\n      <th>Острый правостор парафарингит</th>\n    </tr>\n  </thead>\n  <tbody>\n    <tr>\n      <th>0</th>\n      <td>1</td>\n      <td>2</td>\n      <td>3</td>\n      <td>4</td>\n      <td>5</td>\n      <td>6</td>\n      <td>7</td>\n      <td>8</td>\n      <td>9</td>\n      <td>10</td>\n    </tr>\n    <tr>\n      <th>1</th>\n      <td>Недомогание</td>\n      <td>0,97</td>\n      <td>0,96</td>\n      <td>1</td>\n      <td>0,92</td>\n      <td>0,91</td>\n      <td>1</td>\n      <td>1</td>\n      <td>1</td>\n      <td>0,9</td>\n    </tr>\n    <tr>\n      <th>2</th>\n      <td>Слабость</td>\n      <td>0,99</td>\n      <td>0,98</td>\n      <td>1</td>\n      <td>0,96</td>\n      <td>1</td>\n      <td>1</td>\n      <td>1</td>\n      <td>0,7</td>\n      <td>1</td>\n    </tr>\n    <tr>\n      <th>3</th>\n      <td>Головную боль</td>\n      <td>0,66</td>\n      <td>0,73</td>\n      <td>0,88</td>\n      <td>0,76</td>\n      <td>0,79</td>\n      <td>0,5</td>\n      <td>0,5</td>\n      <td>1</td>\n      <td>0,6</td>\n    </tr>\n    <tr>\n      <th>4</th>\n      <td>Отсутствие аппетита</td>\n      <td>0,73</td>\n      <td>0,75</td>\n      <td>0,88</td>\n      <td>0,76</td>\n      <td>0,86</td>\n      <td>0,5</td>\n      <td>0,5</td>\n      <td>0,8</td>\n      <td>0,6</td>\n    </tr>\n  </tbody>\n</table>\n</div>"
     },
     "execution_count": 33,
     "metadata": {},
     "output_type": "execute_result"
    }
   ],
   "source": [
    "symptom_data.head()"
   ],
   "metadata": {
    "collapsed": false,
    "pycharm": {
     "name": "#%%\n"
    }
   }
  },
  {
   "cell_type": "code",
   "execution_count": 34,
   "outputs": [
    {
     "data": {
      "text/plain": "                                   Болезнь  Количество пациентов\n0    Двусторонний паратонзиллярный абсцесс                     9\n1              Левосторонний паратонзиллит                    26\n2             Правосторонний паратонзиллит                    30\n3   Левосторонний паратонзиллярный абсцесс                   116\n4  Правосторонний паратонзиллярный абсцесс                    96",
      "text/html": "<div>\n<style scoped>\n    .dataframe tbody tr th:only-of-type {\n        vertical-align: middle;\n    }\n\n    .dataframe tbody tr th {\n        vertical-align: top;\n    }\n\n    .dataframe thead th {\n        text-align: right;\n    }\n</style>\n<table border=\"1\" class=\"dataframe\">\n  <thead>\n    <tr style=\"text-align: right;\">\n      <th></th>\n      <th>Болезнь</th>\n      <th>Количество пациентов</th>\n    </tr>\n  </thead>\n  <tbody>\n    <tr>\n      <th>0</th>\n      <td>Двусторонний паратонзиллярный абсцесс</td>\n      <td>9</td>\n    </tr>\n    <tr>\n      <th>1</th>\n      <td>Левосторонний паратонзиллит</td>\n      <td>26</td>\n    </tr>\n    <tr>\n      <th>2</th>\n      <td>Правосторонний паратонзиллит</td>\n      <td>30</td>\n    </tr>\n    <tr>\n      <th>3</th>\n      <td>Левосторонний паратонзиллярный абсцесс</td>\n      <td>116</td>\n    </tr>\n    <tr>\n      <th>4</th>\n      <td>Правосторонний паратонзиллярный абсцесс</td>\n      <td>96</td>\n    </tr>\n  </tbody>\n</table>\n</div>"
     },
     "execution_count": 34,
     "metadata": {},
     "output_type": "execute_result"
    }
   ],
   "source": [
    "disease_data.head()"
   ],
   "metadata": {
    "collapsed": false,
    "pycharm": {
     "name": "#%%\n"
    }
   }
  },
  {
   "cell_type": "code",
   "execution_count": 35,
   "outputs": [
    {
     "data": {
      "text/plain": "{'Двусторонний паратонзиллярный абсцесс': 0.0297029702970297,\n 'Левосторонний паратонзиллит': 0.0858085808580858,\n 'Правосторонний паратонзиллит': 0.09900990099009901,\n 'Левосторонний паратонзиллярный абсцесс': 0.38283828382838286,\n 'Правосторонний паратонзиллярный абсцесс': 0.31683168316831684,\n 'Левосторонний парафарингит': 0.026402640264026403,\n 'Правосторонний парафарингит': 0.039603960396039604,\n 'Левосторнний парафарингиальный абсцесс': 0.009900990099009901,\n 'Правосторонний парафарингиальный абсцесс': 0.009900990099009901,\n 'Итого': 1.0}"
     },
     "execution_count": 35,
     "metadata": {},
     "output_type": "execute_result"
    }
   ],
   "source": [
    "p_disease = dict(zip(disease_data['Болезнь'], disease_data['Количество пациентов']/disease_data['Количество пациентов'][len(disease_data['Количество пациентов'])-1]))\n",
    "p_disease"
   ],
   "metadata": {
    "collapsed": false,
    "pycharm": {
     "name": "#%%\n"
    }
   }
  },
  {
   "cell_type": "code",
   "execution_count": 36,
   "outputs": [],
   "source": [
    "def get_disease_probs(disease):\n",
    "    disease_probs = []\n",
    "    all_p = disease.values[-1]\n",
    "    for i in disease.values:\n",
    "        if i == all_p: continue\n",
    "        disease_probs.append(i / all_p)\n",
    "    return disease_probs\n",
    "\n",
    "def get_probs(disease, symptom, our_symptoms, disease_probs):\n",
    "    our_probs = [1] * (len(disease)-1)\n",
    "    for i in range(len(disease)-1):\n",
    "        our_probs[i] *= disease_probs[i]\n",
    "        for j in range(len(symptom) - 1):\n",
    "            if our_symptoms[j] == 1:\n",
    "                our_probs[i] *= float(symptom.iloc[j][i+1].replace(',', '.'))\n",
    "    return our_probs\n",
    "\n",
    "def max_index(array):\n",
    "    max_index = 0\n",
    "    max_v = array[max_index]\n",
    "    for i in range(1, len(array)):\n",
    "        if max_v < array[i]:\n",
    "            max_v = array[i]\n",
    "            max_index = i\n",
    "    return max_index"
   ],
   "metadata": {
    "collapsed": false,
    "pycharm": {
     "name": "#%%\n"
    }
   }
  },
  {
   "cell_type": "code",
   "execution_count": 37,
   "outputs": [],
   "source": [
    "def bayesian_classifier(disease, symptom, our_symptoms):\n",
    "    disease_probs = get_disease_probs(disease['Количество пациентов'])\n",
    "    our_probs = get_probs(disease['Болезнь'], symptom, our_symptoms, disease_probs)\n",
    "    max_indx = max_index(our_probs)\n",
    "    return disease['Болезнь'][max_indx]"
   ],
   "metadata": {
    "collapsed": false,
    "pycharm": {
     "name": "#%%\n"
    }
   }
  },
  {
   "cell_type": "code",
   "execution_count": 38,
   "outputs": [
    {
     "data": {
      "text/plain": "[0, 0, 0, 1, 1, 0, 0, 0, 0, 1, 0, 1, 0, 1, 1, 1, 0, 0, 0, 0, 1, 0, 1]"
     },
     "execution_count": 38,
     "metadata": {},
     "output_type": "execute_result"
    }
   ],
   "source": [
    "current_symptom = [np.random.randint(0,2) for i in range(len(symptom_data) - 1)]\n",
    "current_symptom"
   ],
   "metadata": {
    "collapsed": false,
    "pycharm": {
     "name": "#%%\n"
    }
   }
  },
  {
   "cell_type": "code",
   "execution_count": 39,
   "outputs": [
    {
     "data": {
      "text/plain": "'Двусторонний паратонзиллярный абсцесс'"
     },
     "execution_count": 39,
     "metadata": {},
     "output_type": "execute_result"
    }
   ],
   "source": [
    "result_disease = bayesian_classifier(disease_data, symptom_data, current_symptom)\n",
    "result_disease"
   ],
   "metadata": {
    "collapsed": false,
    "pycharm": {
     "name": "#%%\n"
    }
   }
  }
 ],
 "metadata": {
  "kernelspec": {
   "display_name": "Python 3",
   "language": "python",
   "name": "python3"
  },
  "language_info": {
   "codemirror_mode": {
    "name": "ipython",
    "version": 2
   },
   "file_extension": ".py",
   "mimetype": "text/x-python",
   "name": "python",
   "nbconvert_exporter": "python",
   "pygments_lexer": "ipython2",
   "version": "2.7.6"
  }
 },
 "nbformat": 4,
 "nbformat_minor": 0
}