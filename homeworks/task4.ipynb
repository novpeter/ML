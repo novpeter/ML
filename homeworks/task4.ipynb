{
 "cells": [
  {
   "cell_type": "markdown",
   "metadata": {
    "collapsed": true,
    "pycharm": {
     "name": "#%% md\n"
    }
   },
   "source": [
    "## Задание 4\n",
    "Реализация алгоритма кластеризации `DBSCAN`"
   ]
  },
  {
   "cell_type": "code",
   "execution_count": 39,
   "outputs": [],
   "source": [
    "import numpy as np"
   ],
   "metadata": {
    "collapsed": false,
    "pycharm": {
     "name": "#%%\n"
    }
   }
  },
  {
   "cell_type": "code",
   "execution_count": 40,
   "outputs": [],
   "source": [
    "class DB_SCAN():\n",
    "\n",
    "    def __init__(self, dataset, eps=30, min_samples=2):\n",
    "        self.dataset = dataset\n",
    "        self.eps = eps\n",
    "        self.min_samples = min_samples\n",
    "        self.n_clusters = 0\n",
    "        self.clusters = {0: []}\n",
    "        self.visited = set()\n",
    "        self.clustered = set()\n",
    "        self.fitted = False\n",
    "\n",
    "    def get_dist2(self, list1, list2):\n",
    "        return sum((i - j)**2 for i,j in zip(list1, list2))\n",
    "\n",
    "    def get_region(self, data):\n",
    "        return [list(q) for q in dataset if self.get_dist2(data, q) < self.eps]\n",
    "\n",
    "    def fit(self):\n",
    "        for p in self.dataset:\n",
    "            if tuple(p) in self.visited:\n",
    "                continue\n",
    "            self.visited.add(tuple(p))\n",
    "            neighbours = self.get_region(p)\n",
    "            if len(neighbours) < self.min_samples:\n",
    "                self.clusters[0].append(list(p))\n",
    "            else:\n",
    "                self.n_clusters += 1\n",
    "                self.expand_cluster(p, neighbours)\n",
    "        self.fitted = True\n",
    "        print(self.n_clusters)\n",
    "\n",
    "    def expand_cluster(self, p, neighbours):\n",
    "        if self.n_clusters not in self.clusters:\n",
    "            self.clusters[self.n_clusters] = []\n",
    "        self.clustered.add(tuple(p))\n",
    "        self.clusters[self.n_clusters].append(list(p))\n",
    "        while neighbours:\n",
    "            q = neighbours.pop()\n",
    "            if tuple(q) not in self.visited:\n",
    "                self.visited.add(tuple(q))\n",
    "                q_neighbours = self.get_region(q)\n",
    "                if len(q_neighbours) > self.min_samples:\n",
    "                    neighbours.extend(q_neighbours)\n",
    "            if tuple(q) not in self.clustered:\n",
    "                self.clustered.add(tuple(q))\n",
    "                self.clusters[self.n_clusters].append(q)\n",
    "                if q in self.clusters[0]:\n",
    "                    self.clusters[0].remove(q)\n",
    "        print(self.clusters[self.n_clusters])\n",
    "\n",
    "    def get_labels(self):\n",
    "        labels = np.array([])\n",
    "        if not self.fitted:\n",
    "            self.fit()\n",
    "        for data in self.dataset:\n",
    "            for i in range(self.n_clusters + 1):\n",
    "                if list(data) in self.clusters:\n",
    "                    print(list(data))\n"
   ],
   "metadata": {
    "collapsed": false,
    "pycharm": {
     "name": "#%%\n"
    }
   }
  },
  {
   "cell_type": "code",
   "execution_count": 41,
   "outputs": [],
   "source": [
    "n = 100\n",
    "dataset = [[np.random.randint(1, 100), np.random.randint(1, 100)] for i in range(n)]"
   ],
   "metadata": {
    "collapsed": false,
    "pycharm": {
     "name": "#%%\n"
    }
   }
  },
  {
   "cell_type": "code",
   "execution_count": 42,
   "outputs": [
    {
     "name": "stdout",
     "output_type": "stream",
     "text": [
      "[[56, 84], [68, 90], [66, 78], [77, 72], [80, 62], [82, 56], [78, 43], [88, 50], [94, 60], [98, 63], [96, 71], [88, 81], [89, 83], [95, 94], [99, 95], [90, 68], [95, 61], [97, 48], [93, 59], [80, 59], [70, 57], [70, 53], [73, 43], [60, 46], [49, 45], [38, 52], [37, 53], [34, 63], [29, 67], [17, 64], [17, 54], [17, 49], [16, 38], [26, 36], [39, 33], [42, 43], [53, 48], [50, 35], [50, 30], [36, 29], [29, 17], [19, 19], [13, 14], [7, 8], [19, 17], [30, 13], [5, 23], [32, 38], [36, 53], [30, 55], [26, 66], [23, 69], [26, 81], [35, 86], [45, 95], [45, 99], [47, 89], [47, 96], [47, 92], [44, 81], [54, 72], [65, 76], [69, 83], [59, 80], [66, 86], [76, 69], [17, 89], [25, 99], [21, 93], [7, 93], [3, 80], [16, 75], [26, 74], [23, 68], [30, 56], [39, 65], [12, 99], [16, 95], [14, 41], [2, 44], [2, 52], [3, 61], [5, 64], [67, 42], [66, 56], [67, 52], [78, 45], [83, 40], [94, 47], [93, 53], [76, 35], [68, 52]]\n",
      "[[87, 25], [95, 24]]\n",
      "[[69, 12], [61, 15], [54, 5], [63, 23], [76, 12]]\n",
      "3\n"
     ]
    }
   ],
   "source": [
    "scan = DB_SCAN(dataset, 200, 2)\n",
    "scan.get_region(dataset[0])\n",
    "scan.fit()\n",
    "\n"
   ],
   "metadata": {
    "collapsed": false,
    "pycharm": {
     "name": "#%%\n"
    }
   }
  }
 ],
 "metadata": {
  "kernelspec": {
   "display_name": "Python 3",
   "language": "python",
   "name": "python3"
  },
  "language_info": {
   "codemirror_mode": {
    "name": "ipython",
    "version": 2
   },
   "file_extension": ".py",
   "mimetype": "text/x-python",
   "name": "python",
   "nbconvert_exporter": "python",
   "pygments_lexer": "ipython2",
   "version": "2.7.6"
  }
 },
 "nbformat": 4,
 "nbformat_minor": 0
}