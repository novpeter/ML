{
 "cells": [
  {
   "cell_type": "markdown",
   "source": [
    "## Задание 5\n",
    "Реализация алгоритма кластеризации `КНП`"
   ],
   "metadata": {
    "collapsed": false,
    "pycharm": {
     "name": "#%% md\n"
    }
   }
  },
  {
   "cell_type": "code",
   "execution_count": 41,
   "outputs": [],
   "source": [
    "import sys\n",
    "import numpy as np"
   ],
   "metadata": {
    "collapsed": false,
    "pycharm": {
     "name": "#%%\n"
    }
   }
  },
  {
   "cell_type": "code",
   "execution_count": 42,
   "outputs": [],
   "source": [
    "import sys # Library for INT_MAX\n",
    "\n",
    "class Graph():\n",
    "\n",
    "    def __init__(self, vertices):\n",
    "        self.V = vertices\n",
    "        self.adj_matrix = [[0 for column in range(vertices)]\n",
    "                      for row in range(vertices)]\n",
    "\n",
    "    def printMST(self, parent):\n",
    "        print(\"Edge \\tWeight\")\n",
    "        for i in range(1, self.V):\n",
    "            print(parent[i], \"-\", i, \"\\t\", self.adj_matrix[i][ parent[i] ])\n",
    "\n",
    "    def minKey(self, key, mstSet):\n",
    "        min = sys.maxsize\n",
    "        min_index = -1\n",
    "\n",
    "        for v in range(self.V):\n",
    "            if key[v] < min and mstSet[v] == False:\n",
    "                min = key[v]\n",
    "                min_index = v\n",
    "\n",
    "        return min_index\n",
    "\n",
    "    def primMST(self):\n",
    "        key = [sys.maxsize] * self.V\n",
    "        parent = [None] * self.V\n",
    "        key[0] = 0\n",
    "        visited_vertices = [False] * self.V\n",
    "\n",
    "        parent[0] = -1\n",
    "\n",
    "        for cout in range(self.V):\n",
    "            u = self.minKey(key, visited_vertices)\n",
    "            visited_vertices[u] = True\n",
    "\n",
    "            for v in range(self.V):\n",
    "                if 0 < self.adj_matrix[u][v] < key[v] and visited_vertices[v] == False :\n",
    "                        key[v] = self.adj_matrix[u][v]\n",
    "                        parent[v] = u\n",
    "\n",
    "        mst_graph = [[0 for _ in range(self.V)]\n",
    "                      for _ in range(self.V)]\n",
    "\n",
    "        for i in range(1, self.V):\n",
    "            mst_graph[parent[i]][i] = self.adj_matrix[i][ parent[i] ]\n",
    "            mst_graph[i][parent[i]] = self.adj_matrix[i][ parent[i] ]\n",
    "\n",
    "        self.printMST(parent)\n",
    "        return mst_graph"
   ],
   "metadata": {
    "collapsed": false,
    "pycharm": {
     "name": "#%%\n"
    }
   }
  },
  {
   "cell_type": "code",
   "execution_count": 43,
   "outputs": [],
   "source": [
    "class MST_CLUSTER():\n",
    "\n",
    "    def __init__(self, mst_graph_matrix, clusters_count=2):\n",
    "        self.mst_graph_matrix = mst_graph_matrix\n",
    "        self.V = len(mst_graph_matrix)\n",
    "        self.clusters_count = clusters_count\n",
    "\n",
    "\n",
    "    def fit(self):\n",
    "        self.remove_extra_edges()\n",
    "\n",
    "\n",
    "    def remove_extra_edges(self):\n",
    "        for i in range(self.clusters_count - 1):\n",
    "            (x, y) = self.find_longest_edge()\n",
    "            self.mst_graph_matrix[x][y] = 0\n",
    "            self.mst_graph_matrix[y][x] = 0\n",
    "\n",
    "\n",
    "    def find_longest_edge(self):\n",
    "        size = range(len(self.mst_graph_matrix))\n",
    "        edge = (-1, -1)\n",
    "        longest_edge = - 1\n",
    "        for i in size:\n",
    "            for j in size:\n",
    "                if self.mst_graph_matrix[i][j] > longest_edge:\n",
    "                    longest_edge = self.mst_graph_matrix[i][j]\n",
    "                    edge = (i, j)\n",
    "\n",
    "        return edge\n",
    "\n",
    "\n",
    "    def clusters(self):\n",
    "        visited = [False] * self.V\n",
    "        connected_components = []\n",
    "        for vertex in range(self.V):\n",
    "            if not visited[vertex]:\n",
    "                temp = []\n",
    "                connected_components.append(self.DFSUtil(temp, vertex, visited))\n",
    "        return connected_components\n",
    "\n",
    "    def DFSUtil(self, temp, vertex, visited):\n",
    "        visited[vertex] = True\n",
    "        temp.append(vertex)\n",
    "\n",
    "        for i in range(self.V):\n",
    "            if not visited[i] and self.mst_graph_matrix[vertex][i] != 0:\n",
    "                temp = self.DFSUtil(temp, i, visited)\n",
    "        return temp"
   ],
   "metadata": {
    "collapsed": false,
    "pycharm": {
     "name": "#%%\n"
    }
   }
  },
  {
   "cell_type": "code",
   "execution_count": 44,
   "outputs": [
    {
     "name": "stdout",
     "output_type": "stream",
     "text": [
      "Edge \tWeight\n",
      "0 - 1 \t 2\n",
      "1 - 2 \t 3\n",
      "0 - 3 \t 6\n",
      "1 - 4 \t 5\n"
     ]
    }
   ],
   "source": [
    "graph = Graph(5)\n",
    "graph.adj_matrix = [ [0, 2, 0, 6, 0],\n",
    "                     [2, 0, 3, 8, 5],\n",
    "                     [0, 3, 0, 0, 7],\n",
    "                     [6, 8, 0, 0, 9],\n",
    "                     [0, 5, 7, 9, 0]]\n",
    "mst_graph = graph.primMST();"
   ],
   "metadata": {
    "collapsed": false,
    "pycharm": {
     "name": "#%%\n"
    }
   }
  },
  {
   "cell_type": "code",
   "execution_count": 45,
   "outputs": [],
   "source": [
    "cluster = MST_CLUSTER(mst_graph.copy(), 2)\n",
    "cluster.fit()\n",
    "clusters = cluster.clusters()"
   ],
   "metadata": {
    "collapsed": false,
    "pycharm": {
     "name": "#%%\n"
    }
   }
  }
 ],
 "metadata": {
  "kernelspec": {
   "display_name": "Python 3",
   "language": "python",
   "name": "python3"
  },
  "language_info": {
   "codemirror_mode": {
    "name": "ipython",
    "version": 2
   },
   "file_extension": ".py",
   "mimetype": "text/x-python",
   "name": "python",
   "nbconvert_exporter": "python",
   "pygments_lexer": "ipython2",
   "version": "2.7.6"
  }
 },
 "nbformat": 4,
 "nbformat_minor": 0
}