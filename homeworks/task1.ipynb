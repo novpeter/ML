{
 "cells": [
  {
   "cell_type": "markdown",
   "source": [
    "## Задание 1\n",
    "Считать данные из `csv` файла и построить по ним диаграмму"
   ],
   "metadata": {
    "collapsed": false,
    "pycharm": {
     "name": "#%% md\n"
    }
   }
  },
  {
   "cell_type": "code",
   "execution_count": 28,
   "outputs": [],
   "source": [
    "import matplotlib.pyplot as plt\n",
    "import csv\n",
    "\n",
    "def draw_height_and_gender_bar(file_path):\n",
    "    with open(file_path, newline='') as file:\n",
    "        reader = csv.DictReader(file)\n",
    "        women_heights = []\n",
    "        men_heights = []\n",
    "\n",
    "        for row in reader:\n",
    "            if row['gender'] == 'Female':\n",
    "                women_heights.append(int(float(row['height'])))\n",
    "            else:\n",
    "                men_heights.append(int(float(row['height'])))\n",
    "\n",
    "        women_average_height = 0\n",
    "        men_average_height = 0\n",
    "\n",
    "        if len(women_heights) != 0:\n",
    "            women_average_height = sum(women_heights) / len(women_heights)\n",
    "\n",
    "        if len(men_heights) != 0:\n",
    "            men_average_height = sum(men_heights) / len(men_heights)\n",
    "\n",
    "        column_names = [\"W\", \"M\"]\n",
    "        average = [women_average_height, men_average_height]\n",
    "        plt.bar(column_names, average)\n",
    "        plt.show()\n"
   ],
   "metadata": {
    "collapsed": false,
    "pycharm": {
     "name": "#%%\n"
    }
   }
  },
  {
   "cell_type": "code",
   "execution_count": 29,
   "outputs": [
    {
     "data": {
      "text/plain": "<Figure size 432x288 with 1 Axes>",
      "image/png": "[encoded data removed]"
     },
     "metadata": {
      "needs_background": "light"
     },
     "output_type": "display_data"
    }
   ],
   "source": [
    "mock_file_path = '../files/task1.csv'\n",
    "draw_height_and_gender_bar(mock_file_path)\n"
   ],
   "metadata": {
    "collapsed": false,
    "pycharm": {
     "name": "#%%\n"
    }
   }
  }
 ],
 "metadata": {
  "kernelspec": {
   "display_name": "Python 3",
   "language": "python",
   "name": "python3"
  },
  "language_info": {
   "codemirror_mode": {
    "name": "ipython",
    "version": 2
   },
   "file_extension": ".py",
   "mimetype": "text/x-python",
   "name": "python",
   "nbconvert_exporter": "python",
   "pygments_lexer": "ipython2",
   "version": "2.7.6"
  }
 },
 "nbformat": 4,
 "nbformat_minor": 0
}