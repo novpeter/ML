{
 "cells": [
  {
   "cell_type": "markdown",
   "source": [
    "## Задание 8\n",
    "Реализация алгоритма классификации `Support Vector Machine, SVM`"
   ],
   "metadata": {
    "collapsed": false
   }
  },
  {
   "cell_type": "code",
   "execution_count": 1,
   "metadata": {
    "collapsed": true
   },
   "outputs": [
    {
     "name": "stdout",
     "output_type": "stream",
     "text": [
      "pygame 2.0.0 (SDL 2.0.12, python 3.8.0)\n",
      "Hello from the pygame community. https://www.pygame.org/contribute.html\n"
     ]
    }
   ],
   "source": [
    "import pygame\n",
    "import sklearn.svm as svm\n",
    "import numpy as np\n",
    "from enum import Enum"
   ]
  },
  {
   "cell_type": "code",
   "execution_count": 2,
   "outputs": [
    {
     "ename": "KeyboardInterrupt",
     "evalue": "",
     "output_type": "error",
     "traceback": [
      "\u001B[0;31m---------------------------------------------------------------------------\u001B[0m",
      "\u001B[0;31mKeyboardInterrupt\u001B[0m                         Traceback (most recent call last)",
      "\u001B[0;32m<ipython-input-2-360529eced56>\u001B[0m in \u001B[0;36m<module>\u001B[0;34m\u001B[0m\n\u001B[1;32m     36\u001B[0m \u001B[0mcan_play\u001B[0m \u001B[0;34m=\u001B[0m \u001B[0;32mTrue\u001B[0m\u001B[0;34m\u001B[0m\u001B[0;34m\u001B[0m\u001B[0m\n\u001B[1;32m     37\u001B[0m \u001B[0;32mwhile\u001B[0m \u001B[0mcan_play\u001B[0m\u001B[0;34m:\u001B[0m\u001B[0;34m\u001B[0m\u001B[0;34m\u001B[0m\u001B[0m\n\u001B[0;32m---> 38\u001B[0;31m     \u001B[0;32mfor\u001B[0m \u001B[0mevent\u001B[0m \u001B[0;32min\u001B[0m \u001B[0mpygame\u001B[0m\u001B[0;34m.\u001B[0m\u001B[0mevent\u001B[0m\u001B[0;34m.\u001B[0m\u001B[0mget\u001B[0m\u001B[0;34m(\u001B[0m\u001B[0;34m)\u001B[0m\u001B[0;34m:\u001B[0m\u001B[0;34m\u001B[0m\u001B[0;34m\u001B[0m\u001B[0m\n\u001B[0m\u001B[1;32m     39\u001B[0m         \u001B[0;32mif\u001B[0m \u001B[0mevent\u001B[0m\u001B[0;34m.\u001B[0m\u001B[0mtype\u001B[0m \u001B[0;34m==\u001B[0m \u001B[0mpygame\u001B[0m\u001B[0;34m.\u001B[0m\u001B[0mQUIT\u001B[0m\u001B[0;34m:\u001B[0m\u001B[0;34m\u001B[0m\u001B[0;34m\u001B[0m\u001B[0m\n\u001B[1;32m     40\u001B[0m             \u001B[0mcanPlay\u001B[0m \u001B[0;34m=\u001B[0m \u001B[0;32mFalse\u001B[0m\u001B[0;34m\u001B[0m\u001B[0;34m\u001B[0m\u001B[0m\n",
      "\u001B[0;31mKeyboardInterrupt\u001B[0m: "
     ]
    }
   ],
   "source": [
    "class Button(Enum):\n",
    "    Left = 1\n",
    "    Right = 3\n",
    "\n",
    "\n",
    "class Type(Enum):\n",
    "    First = 1\n",
    "    Second = 2\n",
    "\n",
    "\n",
    "def draw_circle(coordinates_array, classification_array, current_event, current_class):\n",
    "    color = color_blue_rgb if current_class == 1 else color_green_rgb\n",
    "    pygame.draw.circle(window, color, current_event.pos, radius)\n",
    "    coordinates_array.append(current_event.pos)\n",
    "    classification_array.append(current_class)\n",
    "\n",
    "window_width = 1920\n",
    "window_height = 1080\n",
    "\n",
    "color_blue_rgb = (0, 0, 255)\n",
    "color_green_rgb = (0, 255, 0)\n",
    "color_white_rgb = (255, 255, 255)\n",
    "\n",
    "radius = 5\n",
    "line_width = 1\n",
    "\n",
    "pygame.init()\n",
    "\n",
    "window = pygame.display.set_mode((window_width, window_height))\n",
    "window.fill(color_white_rgb)\n",
    "pygame.display.update()\n",
    "\n",
    "coordinates = []\n",
    "classification = []\n",
    "\n",
    "can_play = True\n",
    "while can_play:\n",
    "    for event in pygame.event.get():\n",
    "        if event.type == pygame.QUIT:\n",
    "            canPlay = False\n",
    "        elif event.type == pygame.MOUSEBUTTONDOWN:\n",
    "            if event.button == Button.Left.value:\n",
    "                draw_circle(coordinates, classification, event, Type.First.value)\n",
    "            elif event.button == Button.Right.value:\n",
    "                draw_circle(coordinates, classification, event, Type.Second.value)\n",
    "        elif event.type == pygame.KEYDOWN and event.key == pygame.K_SPACE:\n",
    "            clf = svm.SVC(kernel='linear', C=1.0)\n",
    "            clf.fit(coordinates, classification)\n",
    "\n",
    "            a = clf.coef_[0][0]\n",
    "            b = clf.coef_[0][1]\n",
    "            c = clf.intercept_\n",
    "\n",
    "            x = np.linspace(0, window_width, 2)\n",
    "            y = (-1 * c - a * x) / b\n",
    "\n",
    "            pygame.draw.line(window, (0, 0, 0), [x[0], y[0]], [x[1], y[1]], line_width)\n",
    "\n",
    "        pygame.display.update()\n",
    "\n",
    "pygame.quit()"
   ],
   "metadata": {
    "collapsed": false,
    "pycharm": {
     "name": "#%%\n"
    }
   }
  }
 ],
 "metadata": {
  "kernelspec": {
   "display_name": "Python 3",
   "language": "python",
   "name": "python3"
  },
  "language_info": {
   "codemirror_mode": {
    "name": "ipython",
    "version": 2
   },
   "file_extension": ".py",
   "mimetype": "text/x-python",
   "name": "python",
   "nbconvert_exporter": "python",
   "pygments_lexer": "ipython2",
   "version": "2.7.6"
  }
 },
 "nbformat": 4,
 "nbformat_minor": 0
}