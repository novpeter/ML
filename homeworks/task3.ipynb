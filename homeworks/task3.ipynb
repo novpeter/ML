{
 "cells": [
  {
   "cell_type": "markdown",
   "metadata": {
    "collapsed": true,
    "pycharm": {
     "name": "#%% md\n"
    }
   },
   "source": [
    "## Задание 3\n",
    "Реализация алгоритма кластеризации `C-Means`"
   ]
  },
  {
   "cell_type": "code",
   "execution_count": 1,
   "outputs": [],
   "source": [
    "import numpy as np\n",
    "from sklearn.datasets import make_blobs\n",
    "import random\n",
    "\n",
    "class C_Means():\n",
    "    def __init__(self, dataset, n_clusters=3, fuzzy_c=2, cut_param=.9):\n",
    "        self.dataset = dataset\n",
    "        self.n_clusters = n_clusters\n",
    "        self.fuzzy_c = fuzzy_c\n",
    "        self.cut_param = cut_param\n",
    "        self.max_iter_num = 1000\n",
    "        self.tolerance = .01\n",
    "        self.fitted = False\n",
    "        self.dist = np.zeros((self.dataset.shape[0],self.n_clusters))\n",
    "        self.centroids = random.sample(list(dataset), k=n_clusters)\n",
    "        self.u = np.array([[np.random.uniform(0,1) for i in range(self.n_clusters)] for j in range(self.dataset.shape[0])])\n",
    "\n",
    "    def get_dist2(self, list1, list2):\n",
    "        return sum((i - j) ** 2 for i, j in zip(list1, list2))\n",
    "\n",
    "    def distribute_data(self):\n",
    "        self.dist = np.array([[self.get_dist2(i,j) for i in self.centroids] for j in self.dataset])\n",
    "        self.u = (1 / self.dist) ** (1/(self.fuzzy_c-1))\n",
    "        self.u = (self.u / self.u.sum(axis=1)[:,None])\n",
    "        # Change nan to 1\n",
    "        self.u[np.isnan(self.u)] = 1\n",
    "\n",
    "    def recalculate_centroids(self):\n",
    "        self.centroids = (self.u.T).dot(self.dataset) / self.u.sum(axis=0)[:, None]\n",
    "\n",
    "    def fit(self):\n",
    "        iter = 1\n",
    "        while iter < self.max_iter_num:\n",
    "            prev_centroids = np.copy(self.centroids)\n",
    "            self.recalculate_centroids()\n",
    "            self.distribute_data()\n",
    "            if max([self.get_dist2(i, k) for i, k in zip(self.centroids, prev_centroids)]) < self.tolerance:\n",
    "                break\n",
    "            iter += 1\n",
    "        self.fitted = True\n",
    "\n",
    "    def check_is_fitted(self):\n",
    "        if self.fitted:\n",
    "            return True\n",
    "        else:\n",
    "            raise AttributeError(\"You must train classifier before predicting data!\")\n",
    "\n",
    "    def get_labels(self):\n",
    "        self.check_is_fitted()\n",
    "\n",
    "        result = np.array([])\n",
    "\n",
    "        for i in range(self.dataset.shape[0]):\n",
    "            max_probability = max(self.u[i][j] for j in range(self.n_clusters))\n",
    "            _, max_probability_cluster_index = np.where(self.u == max_probability)\n",
    "\n",
    "            if max_probability < self.cut_param:\n",
    "                result = np.append(result, 0).astype(int)\n",
    "            else:\n",
    "                result = np.append(result, max_probability_cluster_index + 1).astype(int)\n",
    "\n",
    "        return result"
   ],
   "metadata": {
    "collapsed": false,
    "pycharm": {
     "name": "#%%\n"
    }
   }
  },
  {
   "cell_type": "code",
   "execution_count": 2,
   "outputs": [],
   "source": [
    "dataset, _ = make_blobs(centers=3, n_features=2)\n",
    "\n",
    "model = C_Means(dataset, 3, 1.2, .9)\n",
    "model.fit()"
   ],
   "metadata": {
    "collapsed": false,
    "pycharm": {
     "name": "#%%\n"
    }
   }
  },
  {
   "cell_type": "code",
   "execution_count": 3,
   "outputs": [
    {
     "name": "stdout",
     "output_type": "stream",
     "text": [
      "[3 3 3 3 3 3 3 2 3 2 3 3 3 3 0 3 0 0 3 3 1 2 3 3 3 3 3 3 3 2 3 3 2 2 3 1 3\n",
      " 3 3 3 3 3 3 1 3 3 2 3 3 3 0 3 3 1 3 0 2 2 3 3 3 1 3 1 2 3 2 0 3 2 3 3 3 1\n",
      " 2 3 3 2 3 1 2 3 3 3 1 2 3 3 2 3 3 3 3 3 3 3 2 3 3 2]\n"
     ]
    }
   ],
   "source": [
    "print(model.get_labels())"
   ],
   "metadata": {
    "collapsed": false,
    "pycharm": {
     "name": "#%%\n"
    }
   }
  }
 ],
 "metadata": {
  "kernelspec": {
   "display_name": "Python 3",
   "language": "python",
   "name": "python3"
  },
  "language_info": {
   "codemirror_mode": {
    "name": "ipython",
    "version": 2
   },
   "file_extension": ".py",
   "mimetype": "text/x-python",
   "name": "python",
   "nbconvert_exporter": "python",
   "pygments_lexer": "ipython2",
   "version": "2.7.6"
  }
 },
 "nbformat": 4,
 "nbformat_minor": 0
}