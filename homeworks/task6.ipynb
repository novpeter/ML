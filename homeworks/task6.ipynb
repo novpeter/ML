{
 "cells": [
  {
   "cell_type": "markdown",
   "metadata": {
    "collapsed": true,
    "pycharm": {
     "name": "#%% md\n"
    }
   },
   "source": [
    "## Задание 6\n",
    "Реализация алгоритма кластеризации `kNN`"
   ]
  },
  {
   "cell_type": "code",
   "execution_count": 33,
   "outputs": [],
   "source": [
    "import random\n",
    "import numpy as np"
   ],
   "metadata": {
    "collapsed": false,
    "pycharm": {
     "name": "#%%\n"
    }
   }
  },
  {
   "cell_type": "code",
   "execution_count": 34,
   "outputs": [],
   "source": [
    "class K_NN():\n",
    "\n",
    "    def __init__(self, dataset, k_num=3):\n",
    "        self.dataset = dataset\n",
    "        self.k_num = k_num\n",
    "\n",
    "    def get_dist(self, list1, list2):\n",
    "        return np.sqrt(sum((i - j)**2 for i,j in zip(list1, list2)))\n",
    "\n",
    "    def predict(self, data):\n",
    "        dist = np.array([[self.get_dist(i[0], data), i[1][0]] for i in self.dataset])\n",
    "        sorts = dist[dist[:, 0].argsort()][:self.k_num]\n",
    "        counts = {}\n",
    "        for sort in sorts:\n",
    "            if int(sort[1]) not in counts:\n",
    "                counts[int(sort[1])] = 0\n",
    "            counts[int(sort[1])] += 1\n",
    "        print(counts)\n",
    "\n",
    "        return max(counts.keys(), key = lambda c1: counts[c1])"
   ],
   "metadata": {
    "collapsed": false,
    "pycharm": {
     "name": "#%%\n"
    }
   }
  },
  {
   "cell_type": "code",
   "execution_count": 35,
   "outputs": [],
   "source": [
    "def generateData (numberOfClassEl, numberOfClasses):\n",
    "    data = np.empty((0, 2), dtype='f')\n",
    "    for classNum in range(numberOfClasses):\n",
    "        center_x, center_y = random.random()*5.0, random.random()*5.0\n",
    "        for rowNum in range(numberOfClassEl):\n",
    "            point = [random.gauss(center_x,0.5), random.gauss(center_y,0.5)]\n",
    "            data = np.append(data, [[point, [classNum]]], axis=0)\n",
    "    return data"
   ],
   "metadata": {
    "collapsed": false,
    "pycharm": {
     "name": "#%%\n"
    }
   }
  },
  {
   "cell_type": "code",
   "execution_count": 36,
   "outputs": [],
   "source": [
    "points_count = 10\n",
    "classes_count = 3\n",
    "\n",
    "dataset = generateData(points_count, classes_count)"
   ],
   "metadata": {
    "collapsed": false,
    "pycharm": {
     "name": "#%%\n"
    }
   }
  },
  {
   "cell_type": "code",
   "execution_count": 37,
   "outputs": [],
   "source": [
    "new_point = [1.5, 1.5]"
   ],
   "metadata": {
    "collapsed": false,
    "pycharm": {
     "name": "#%%\n"
    }
   }
  },
  {
   "cell_type": "code",
   "execution_count": 38,
   "outputs": [
    {
     "name": "stdout",
     "output_type": "stream",
     "text": [
      "{0: 2, 1: 1}\n"
     ]
    },
    {
     "data": {
      "text/plain": "0"
     },
     "execution_count": 38,
     "metadata": {},
     "output_type": "execute_result"
    }
   ],
   "source": [
    "classifier = K_NN(dataset, k_num=classes_count)\n",
    "classifier.predict(new_point)"
   ],
   "metadata": {
    "collapsed": false,
    "pycharm": {
     "name": "#%%\n"
    }
   }
  }
 ],
 "metadata": {
  "kernelspec": {
   "display_name": "Python 3",
   "language": "python",
   "name": "python3"
  },
  "language_info": {
   "codemirror_mode": {
    "name": "ipython",
    "version": 2
   },
   "file_extension": ".py",
   "mimetype": "text/x-python",
   "name": "python",
   "nbconvert_exporter": "python",
   "pygments_lexer": "ipython2",
   "version": "2.7.6"
  }
 },
 "nbformat": 4,
 "nbformat_minor": 0
}