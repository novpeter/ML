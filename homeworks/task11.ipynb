{
 "cells": [
  {
   "cell_type": "markdown",
   "metadata": {
    "collapsed": true,
    "pycharm": {
     "name": "#%% md\n"
    }
   },
   "source": [
    "## Задание 11\n",
    "GA"
   ]
  },
  {
   "cell_type": "code",
   "execution_count": 1,
   "outputs": [],
   "source": [
    "import numpy as np\n",
    "from random import randrange"
   ],
   "metadata": {
    "collapsed": false,
    "pycharm": {
     "name": "#%%\n"
    }
   }
  },
  {
   "cell_type": "code",
   "execution_count": 2,
   "outputs": [],
   "source": [
    "result = 30\n",
    "generation = []\n",
    "gen_size = 15\n",
    "equation_parameters = [1, 2, 3, 4]\n",
    "iterations = 50000\n",
    "inverse_coefficients_sum = 0.0\n",
    "iterator = 0"
   ],
   "metadata": {
    "collapsed": false,
    "pycharm": {
     "name": "#%%\n"
    }
   }
  },
  {
   "cell_type": "code",
   "execution_count": 3,
   "outputs": [],
   "source": [
    "class GenTuple:\n",
    "    range_to_result = 0\n",
    "    accuracy = 0.0\n",
    "    values = []\n",
    "\n",
    "    @staticmethod\n",
    "    def create(current_gen):\n",
    "        probability_distribution = [current_gen[x].accuracy for x in range(len(current_gen))]\n",
    "        parent1, parent2 = np.random.choice(current_gen, 2, p=probability_distribution)\n",
    "        if parent1 == parent2:\n",
    "            parent2 = np.random.choice(current_gen, 1, p=probability_distribution)[0]\n",
    "        rnd = randrange(len(equation_parameters))\n",
    "        dominantParent = randrange(2)\n",
    "        if dominantParent == 0:\n",
    "            new_gen = parent1.values\n",
    "            new_gen[rnd] = parent2.values[rnd]\n",
    "        else:\n",
    "            new_gen = parent2.values\n",
    "            new_gen[rnd] = parent1.values[rnd]\n",
    "        mutation_probability = randrange(101)\n",
    "        mutation_chance = 10\n",
    "        if mutation_probability < mutation_chance:\n",
    "            rand2 = randrange(len(equation_parameters))\n",
    "            new_gen[rand2] = randrange(31)\n",
    "        res = GenTuple()\n",
    "        res.values = new_gen\n",
    "        return res\n",
    "\n",
    "    @staticmethod\n",
    "    def map(values, accuracy=0.0):\n",
    "        res = GenTuple()\n",
    "        res.accuracy = accuracy\n",
    "        res.values = values\n",
    "        return res\n",
    "\n",
    "    def __repr__(self):\n",
    "        return \"Range to result: \" + str(self.range_to_result) + \", Accuracy: \" \\\n",
    "               + str(self.accuracy) + \", Generation: \" + str(self.values)\n",
    "\n",
    "\n",
    "def recalculate_accuracy(gen, sum):\n",
    "    for s in range(len(gen)):\n",
    "        gen[s].accuracy = (1.0 / gen[s].range_to_result) / sum\n",
    "\n",
    "\n",
    "def init_generation(gen, param_count, res, size):\n",
    "    for _ in range(size):\n",
    "        gen.append(GenTuple.map([randrange(res) for _ in range(param_count)]))\n",
    "\n",
    "\n",
    "def step(gen, sum, size, eq_parameters):\n",
    "    for i in range(size):\n",
    "        value = 0\n",
    "        for j in range(len(eq_parameters)):\n",
    "            value += gen[i].values[j] * eq_parameters[j]\n",
    "        absValue = abs(value - result)\n",
    "        if absValue == 0:\n",
    "            print(\"Solution: \" + str(gen[i].values))\n",
    "            return True, sum\n",
    "        gen[i].range_to_result = absValue\n",
    "        sum += 1.0 / absValue\n",
    "    return False, sum"
   ],
   "metadata": {
    "collapsed": false,
    "pycharm": {
     "name": "#%%\n"
    }
   }
  },
  {
   "cell_type": "code",
   "execution_count": 4,
   "outputs": [],
   "source": [
    "init_generation(generation, len(equation_parameters), result, gen_size)\n",
    "\n",
    "solved, inverse_coefficients_sum = step(generation, inverse_coefficients_sum, gen_size, equation_parameters)\n",
    "\n",
    "recalculate_accuracy(generation, inverse_coefficients_sum)"
   ],
   "metadata": {
    "collapsed": false,
    "pycharm": {
     "name": "#%%\n"
    }
   }
  },
  {
   "cell_type": "code",
   "execution_count": 5,
   "outputs": [
    {
     "name": "stdout",
     "output_type": "stream",
     "text": [
      "Solution: [2, 3, 2, 4]\n",
      "Iterations: 1817\n"
     ]
    }
   ],
   "source": [
    "while not solved and iterator < iterations:\n",
    "    inverse_coefficients_sum = 0.0\n",
    "    generation = [GenTuple.create(generation) for i in range(gen_size)]\n",
    "\n",
    "    solved, inverse_coefficients_sum = step(generation, inverse_coefficients_sum, gen_size, equation_parameters)\n",
    "    if solved:\n",
    "        break\n",
    "\n",
    "    recalculate_accuracy(generation, inverse_coefficients_sum)\n",
    "\n",
    "    iterator += 1\n",
    "\n",
    "if not solved:\n",
    "    print(\"Too many iterations\")\n",
    "else:\n",
    "    print(\"Iterations: \" + str(iterator))\n",
    "\n"
   ],
   "metadata": {
    "collapsed": false,
    "pycharm": {
     "name": "#%%\n"
    }
   }
  }
 ],
 "metadata": {
  "kernelspec": {
   "display_name": "Python 3",
   "language": "python",
   "name": "python3"
  },
  "language_info": {
   "codemirror_mode": {
    "name": "ipython",
    "version": 2
   },
   "file_extension": ".py",
   "mimetype": "text/x-python",
   "name": "python",
   "nbconvert_exporter": "python",
   "pygments_lexer": "ipython2",
   "version": "2.7.6"
  }
 },
 "nbformat": 4,
 "nbformat_minor": 0
}